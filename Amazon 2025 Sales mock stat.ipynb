{
 "cells": [
  {
   "cell_type": "markdown",
   "id": "aeed03ab-469c-44f2-a5a9-6f5031a5010d",
   "metadata": {
    "editable": true,
    "slideshow": {
     "slide_type": ""
    },
    "tags": []
   },
   "source": [
    "Amazon 2025 Sales Performance Analysis: Identifying Key Trends and Opportunities\n",
    "\n",
    "Goal:\n",
    "This analysis aims to uncover sales trends within the 2025 dataset to identify high-performing products, customer hotspots, and monthly revenue patterns. The insights are intended to support business decision-making, optimize inventory planning, and shape future sales strategies."
   ]
  },
  {
   "cell_type": "code",
   "execution_count": 8,
   "id": "0ca48730-2484-432d-934d-43a42d8f1905",
   "metadata": {
    "scrolled": true
   },
   "outputs": [],
   "source": [
    "import pandas as pd\n",
    "import matplotlib.pyplot as plt\n",
    "import seaborn as sns\n"
   ]
  },
  {
   "cell_type": "markdown",
   "id": "18efd3b0-2ebf-40c6-9afa-16481729e222",
   "metadata": {},
   "source": [
    "DATA IMPORT AND QUICK OVERVIEW"
   ]
  },
  {
   "cell_type": "code",
   "execution_count": 9,
   "id": "8a080a78-2854-47a0-bb9a-41eb70337461",
   "metadata": {},
   "outputs": [],
   "source": [
    "#Load dataset from CSV file into a DataFrame \n",
    "\n",
    "df = pd.read_csv('amazon_sales_data 2025.csv')"
   ]
  },
  {
   "cell_type": "markdown",
   "id": "623c05ab-d10d-4a17-9e96-e1162ee28d68",
   "metadata": {},
   "source": [
    "BASIC INFO ABOUT OUR DATA"
   ]
  },
  {
   "cell_type": "code",
   "execution_count": 10,
   "id": "a26e25a2-1827-49ad-9e70-1dabe0e5e671",
   "metadata": {
    "scrolled": true
   },
   "outputs": [
    {
     "name": "stdout",
     "output_type": "stream",
     "text": [
      "<class 'pandas.core.frame.DataFrame'>\n",
      "RangeIndex: 250 entries, 0 to 249\n",
      "Data columns (total 11 columns):\n",
      " #   Column             Non-Null Count  Dtype \n",
      "---  ------             --------------  ----- \n",
      " 0   Order ID           250 non-null    object\n",
      " 1   Date               250 non-null    object\n",
      " 2   Product            250 non-null    object\n",
      " 3   Category           250 non-null    object\n",
      " 4   Price              250 non-null    int64 \n",
      " 5   Quantity           250 non-null    int64 \n",
      " 6   Total Sales        250 non-null    int64 \n",
      " 7   Customer Name      250 non-null    object\n",
      " 8   Customer Location  250 non-null    object\n",
      " 9   Payment Method     250 non-null    object\n",
      " 10  Status             250 non-null    object\n",
      "dtypes: int64(3), object(8)\n",
      "memory usage: 21.6+ KB\n"
     ]
    },
    {
     "data": {
      "text/plain": [
       "(250, 11)"
      ]
     },
     "execution_count": 10,
     "metadata": {},
     "output_type": "execute_result"
    }
   ],
   "source": [
    "df.info()\n",
    "df.sample()\n",
    "df.shape"
   ]
  },
  {
   "cell_type": "code",
   "execution_count": 11,
   "id": "c8e3b2fe-beb2-4bfe-b2ab-2a3a6fb44546",
   "metadata": {},
   "outputs": [
    {
     "data": {
      "text/html": [
       "<div>\n",
       "<style scoped>\n",
       "    .dataframe tbody tr th:only-of-type {\n",
       "        vertical-align: middle;\n",
       "    }\n",
       "\n",
       "    .dataframe tbody tr th {\n",
       "        vertical-align: top;\n",
       "    }\n",
       "\n",
       "    .dataframe thead th {\n",
       "        text-align: right;\n",
       "    }\n",
       "</style>\n",
       "<table border=\"1\" class=\"dataframe\">\n",
       "  <thead>\n",
       "    <tr style=\"text-align: right;\">\n",
       "      <th></th>\n",
       "      <th>Price</th>\n",
       "      <th>Quantity</th>\n",
       "      <th>Total Sales</th>\n",
       "    </tr>\n",
       "  </thead>\n",
       "  <tbody>\n",
       "    <tr>\n",
       "      <th>count</th>\n",
       "      <td>250.000000</td>\n",
       "      <td>250.000000</td>\n",
       "      <td>250.000000</td>\n",
       "    </tr>\n",
       "    <tr>\n",
       "      <th>mean</th>\n",
       "      <td>343.580000</td>\n",
       "      <td>2.856000</td>\n",
       "      <td>975.380000</td>\n",
       "    </tr>\n",
       "    <tr>\n",
       "      <th>std</th>\n",
       "      <td>380.635808</td>\n",
       "      <td>1.429489</td>\n",
       "      <td>1252.112254</td>\n",
       "    </tr>\n",
       "    <tr>\n",
       "      <th>min</th>\n",
       "      <td>15.000000</td>\n",
       "      <td>1.000000</td>\n",
       "      <td>15.000000</td>\n",
       "    </tr>\n",
       "    <tr>\n",
       "      <th>25%</th>\n",
       "      <td>40.000000</td>\n",
       "      <td>2.000000</td>\n",
       "      <td>100.000000</td>\n",
       "    </tr>\n",
       "    <tr>\n",
       "      <th>50%</th>\n",
       "      <td>150.000000</td>\n",
       "      <td>3.000000</td>\n",
       "      <td>400.000000</td>\n",
       "    </tr>\n",
       "    <tr>\n",
       "      <th>75%</th>\n",
       "      <td>600.000000</td>\n",
       "      <td>4.000000</td>\n",
       "      <td>1500.000000</td>\n",
       "    </tr>\n",
       "    <tr>\n",
       "      <th>max</th>\n",
       "      <td>1200.000000</td>\n",
       "      <td>5.000000</td>\n",
       "      <td>6000.000000</td>\n",
       "    </tr>\n",
       "  </tbody>\n",
       "</table>\n",
       "</div>"
      ],
      "text/plain": [
       "             Price    Quantity  Total Sales\n",
       "count   250.000000  250.000000   250.000000\n",
       "mean    343.580000    2.856000   975.380000\n",
       "std     380.635808    1.429489  1252.112254\n",
       "min      15.000000    1.000000    15.000000\n",
       "25%      40.000000    2.000000   100.000000\n",
       "50%     150.000000    3.000000   400.000000\n",
       "75%     600.000000    4.000000  1500.000000\n",
       "max    1200.000000    5.000000  6000.000000"
      ]
     },
     "execution_count": 11,
     "metadata": {},
     "output_type": "execute_result"
    }
   ],
   "source": [
    "df.describe()"
   ]
  },
  {
   "cell_type": "markdown",
   "id": "ff32d74b-edc4-4517-bc54-4ca095b0d33a",
   "metadata": {},
   "source": [
    "NOW THE DATA CLEANING STEP MAY BEGIN\n"
   ]
  },
  {
   "cell_type": "markdown",
   "id": "97a6aa26-feb5-41a1-afe5-289b96b2586f",
   "metadata": {},
   "source": [
    "Check for missing values"
   ]
  },
  {
   "cell_type": "code",
   "execution_count": 12,
   "id": "d37ff907-d599-4419-bb10-b446d8259a41",
   "metadata": {},
   "outputs": [
    {
     "data": {
      "text/plain": [
       "Order ID             0\n",
       "Date                 0\n",
       "Product              0\n",
       "Category             0\n",
       "Price                0\n",
       "Quantity             0\n",
       "Total Sales          0\n",
       "Customer Name        0\n",
       "Customer Location    0\n",
       "Payment Method       0\n",
       "Status               0\n",
       "dtype: int64"
      ]
     },
     "execution_count": 12,
     "metadata": {},
     "output_type": "execute_result"
    }
   ],
   "source": [
    "df.isnull().sum()"
   ]
  },
  {
   "cell_type": "markdown",
   "id": "f73379ee-a371-4428-814b-faab20feeb95",
   "metadata": {},
   "source": [
    "Now give all the data an appropriate data type"
   ]
  },
  {
   "cell_type": "code",
   "execution_count": 13,
   "id": "9205a4c4-2505-444f-bd16-ea007d26a10f",
   "metadata": {},
   "outputs": [],
   "source": [
    "df['Date'] = pd.to_datetime(df['Date'],format='%y-%m-%d') #changing date to correct datatype\n",
    "\n",
    "df['Category'] = df['Category'].astype('category') # speeding up grouping\n",
    "\n",
    "df['Price'] = df['Price'].astype('float') # if our price has cents\n",
    "\n",
    "df['Customer Location'] = df['Customer Location'].astype('category') #Different cities in US\n",
    "\n",
    "df['Payment Method'] = df['Payment Method'].astype('category')\n",
    "\n",
    "df['Status'] = df['Status'].astype('category')\n"
   ]
  },
  {
   "cell_type": "code",
   "execution_count": 14,
   "id": "d2ad5a77-b53c-4907-a969-a00bf1e70957",
   "metadata": {},
   "outputs": [
    {
     "data": {
      "text/plain": [
       "Order ID                     object\n",
       "Date                 datetime64[ns]\n",
       "Product                      object\n",
       "Category                   category\n",
       "Price                       float64\n",
       "Quantity                      int64\n",
       "Total Sales                   int64\n",
       "Customer Name                object\n",
       "Customer Location          category\n",
       "Payment Method             category\n",
       "Status                     category\n",
       "dtype: object"
      ]
     },
     "execution_count": 14,
     "metadata": {},
     "output_type": "execute_result"
    }
   ],
   "source": [
    "df.dtypes"
   ]
  },
  {
   "cell_type": "markdown",
   "id": "3b01b478-6a16-492d-b6c5-e14f346c4b56",
   "metadata": {},
   "source": [
    "Checking Negative Prices,Duplicated rows "
   ]
  },
  {
   "cell_type": "code",
   "execution_count": 25,
   "id": "4e7279da-4494-4f00-839d-c47050488e25",
   "metadata": {},
   "outputs": [
    {
     "data": {
      "text/plain": [
       "0"
      ]
     },
     "execution_count": 25,
     "metadata": {},
     "output_type": "execute_result"
    }
   ],
   "source": [
    "df[df['Price']<0]\n",
    "df.duplicated().sum()"
   ]
  },
  {
   "cell_type": "markdown",
   "id": "0c96a081-ed79-413b-a8f6-b72faec83e62",
   "metadata": {},
   "source": [
    "FEATURE ENGINEERING"
   ]
  },
  {
   "cell_type": "markdown",
   "id": "ef6f09b9-b461-44ef-af78-9b53bd7aa0ab",
   "metadata": {},
   "source": [
    "Revenue per Item"
   ]
  },
  {
   "cell_type": "code",
   "execution_count": 26,
   "id": "86fcf680-393e-46f5-97bf-6f9fdf28136c",
   "metadata": {},
   "outputs": [],
   "source": [
    "df['Revenue per Item'] = df['Total Sales'] / df['Quantity']"
   ]
  },
  {
   "cell_type": "markdown",
   "id": "fe68f41c-ae77-4659-978d-2cb36e4ba02e",
   "metadata": {},
   "source": [
    "Tracking sales monthly sales trend"
   ]
  },
  {
   "cell_type": "code",
   "execution_count": 27,
   "id": "82762b3c-6d9d-424a-a8bb-6a1a514497ce",
   "metadata": {},
   "outputs": [],
   "source": [
    "df['Year'] = df['Date'].dt.year                    # Year\n",
    "df['Month'] = df['Date'].dt.month_name()           #Month\n",
    "df['Month Num'] = df['Date'].dt.month               # e.g. 3\n",
    "df['Weekday'] = df['Date'].dt.day_name()            # e.g. Monday\n"
   ]
  },
  {
   "cell_type": "markdown",
   "id": "6b5b9611-eca7-4561-a732-78e578defce4",
   "metadata": {},
   "source": [
    "KEY INSIGHTS"
   ]
  },
  {
   "cell_type": "markdown",
   "id": "33809bc2-5115-4e98-8cd3-f08656d54617",
   "metadata": {},
   "source": [
    "Most Common data for each  column"
   ]
  },
  {
   "cell_type": "code",
   "execution_count": 28,
   "id": "fe07647d-a560-4037-a976-3ed3732fabd5",
   "metadata": {},
   "outputs": [
    {
     "data": {
      "text/plain": [
       "Payment Method\n",
       "PayPal         60\n",
       "Credit Card    54\n",
       "Debit Card     53\n",
       "Gift Card      42\n",
       "Amazon Pay     41\n",
       "Name: count, dtype: int64"
      ]
     },
     "execution_count": 28,
     "metadata": {},
     "output_type": "execute_result"
    }
   ],
   "source": [
    "df['Payment Method'].value_counts()  # Common Payment Method"
   ]
  },
  {
   "cell_type": "code",
   "execution_count": 29,
   "id": "49412936-2071-4603-8041-55677fce5bd6",
   "metadata": {},
   "outputs": [
    {
     "data": {
      "text/plain": [
       "Product\n",
       "Smartphone         35\n",
       "Smartwatch         34\n",
       "Running Shoes      27\n",
       "Headphones         25\n",
       "Book               25\n",
       "Laptop             24\n",
       "Refrigerator       24\n",
       "T-Shirt            20\n",
       "Jeans              20\n",
       "Washing Machine    16\n",
       "Name: count, dtype: int64"
      ]
     },
     "execution_count": 29,
     "metadata": {},
     "output_type": "execute_result"
    }
   ],
   "source": [
    "df['Product'].value_counts()  #Top performing product\n"
   ]
  },
  {
   "cell_type": "code",
   "execution_count": 30,
   "id": "1757f049-8ad4-47d5-9433-dbe9399a8b86",
   "metadata": {},
   "outputs": [
    {
     "data": {
      "text/plain": [
       "Customer Location\n",
       "Houston          32\n",
       "Miami            31\n",
       "Dallas           29\n",
       "Boston           26\n",
       "Denver           26\n",
       "New York         26\n",
       "Chicago          22\n",
       "Seattle          22\n",
       "San Francisco    19\n",
       "Los Angeles      17\n",
       "Name: count, dtype: int64"
      ]
     },
     "execution_count": 30,
     "metadata": {},
     "output_type": "execute_result"
    }
   ],
   "source": [
    "df['Customer Location'].value_counts()  #Cities with most orders"
   ]
  },
  {
   "cell_type": "markdown",
   "id": "4cd37cd5-27d0-4d57-a180-f428dc6c2529",
   "metadata": {},
   "source": [
    "the Product with the Highest Units Sold"
   ]
  },
  {
   "cell_type": "code",
   "execution_count": 31,
   "id": "15f1b3cd-757c-46cc-95f0-25a356c84c7a",
   "metadata": {},
   "outputs": [
    {
     "data": {
      "text/plain": [
       "Product\n",
       "Smartwatch    46\n",
       "Name: Quantity, dtype: int64"
      ]
     },
     "execution_count": 31,
     "metadata": {},
     "output_type": "execute_result"
    }
   ],
   "source": [
    "#Filter completed orders\n",
    "completed = df[df['Status'] == 'Completed']\n",
    "\n",
    "# Sum quantity by product\n",
    "qty_completed = completed.groupby('Product')['Quantity'].sum()\n",
    "\n",
    "# Sort descending and get top\n",
    "top_completed = qty_completed.sort_values(ascending=False).head(1)\n",
    "\n",
    "top_completed\n"
   ]
  },
  {
   "cell_type": "code",
   "execution_count": 32,
   "id": "3e5f9671-90a9-4865-b02e-6dbfc76e3ffc",
   "metadata": {},
   "outputs": [
    {
     "data": {
      "text/html": [
       "<div>\n",
       "<style scoped>\n",
       "    .dataframe tbody tr th:only-of-type {\n",
       "        vertical-align: middle;\n",
       "    }\n",
       "\n",
       "    .dataframe tbody tr th {\n",
       "        vertical-align: top;\n",
       "    }\n",
       "\n",
       "    .dataframe thead th {\n",
       "        text-align: right;\n",
       "    }\n",
       "</style>\n",
       "<table border=\"1\" class=\"dataframe\">\n",
       "  <thead>\n",
       "    <tr style=\"text-align: right;\">\n",
       "      <th></th>\n",
       "      <th>Quantity</th>\n",
       "      <th>Total Sales</th>\n",
       "    </tr>\n",
       "    <tr>\n",
       "      <th>Product</th>\n",
       "      <th></th>\n",
       "      <th></th>\n",
       "    </tr>\n",
       "  </thead>\n",
       "  <tbody>\n",
       "    <tr>\n",
       "      <th>Laptop</th>\n",
       "      <td>32</td>\n",
       "      <td>25600</td>\n",
       "    </tr>\n",
       "    <tr>\n",
       "      <th>Refrigerator</th>\n",
       "      <td>19</td>\n",
       "      <td>22800</td>\n",
       "    </tr>\n",
       "    <tr>\n",
       "      <th>Smartphone</th>\n",
       "      <td>44</td>\n",
       "      <td>22000</td>\n",
       "    </tr>\n",
       "    <tr>\n",
       "      <th>Smartwatch</th>\n",
       "      <td>46</td>\n",
       "      <td>6900</td>\n",
       "    </tr>\n",
       "    <tr>\n",
       "      <th>Washing Machine</th>\n",
       "      <td>11</td>\n",
       "      <td>6600</td>\n",
       "    </tr>\n",
       "    <tr>\n",
       "      <th>Running Shoes</th>\n",
       "      <td>27</td>\n",
       "      <td>1620</td>\n",
       "    </tr>\n",
       "    <tr>\n",
       "      <th>Headphones</th>\n",
       "      <td>14</td>\n",
       "      <td>1400</td>\n",
       "    </tr>\n",
       "    <tr>\n",
       "      <th>Jeans</th>\n",
       "      <td>21</td>\n",
       "      <td>840</td>\n",
       "    </tr>\n",
       "    <tr>\n",
       "      <th>T-Shirt</th>\n",
       "      <td>28</td>\n",
       "      <td>560</td>\n",
       "    </tr>\n",
       "    <tr>\n",
       "      <th>Book</th>\n",
       "      <td>14</td>\n",
       "      <td>210</td>\n",
       "    </tr>\n",
       "  </tbody>\n",
       "</table>\n",
       "</div>"
      ],
      "text/plain": [
       "                 Quantity  Total Sales\n",
       "Product                               \n",
       "Laptop                 32        25600\n",
       "Refrigerator           19        22800\n",
       "Smartphone             44        22000\n",
       "Smartwatch             46         6900\n",
       "Washing Machine        11         6600\n",
       "Running Shoes          27         1620\n",
       "Headphones             14         1400\n",
       "Jeans                  21          840\n",
       "T-Shirt                28          560\n",
       "Book                   14          210"
      ]
     },
     "execution_count": 32,
     "metadata": {},
     "output_type": "execute_result"
    }
   ],
   "source": [
    "# Filter for completed orders\n",
    "completed_df = df[df['Status'] == 'Completed']\n",
    "\n",
    "#  Aggregate total sales or quantity by product\n",
    "report = (\n",
    "    completed_df\n",
    "    .groupby('Product')[['Quantity','Total Sales']]\n",
    "    .sum()\n",
    "    .sort_values('Total Sales', ascending=False)\n",
    ")\n",
    "report.head(10)\n"
   ]
  },
  {
   "cell_type": "code",
   "execution_count": 33,
   "id": "c534a4da-43b1-4c52-845e-0ba00c002ec5",
   "metadata": {},
   "outputs": [
    {
     "data": {
      "text/plain": [
       "Month\n",
       "February    122695\n",
       "March       117730\n",
       "April         3420\n",
       "Name: Total Sales, dtype: int64"
      ]
     },
     "execution_count": 33,
     "metadata": {},
     "output_type": "execute_result"
    }
   ],
   "source": [
    "df.groupby('Month')['Total Sales'].sum().sort_values(ascending=False)  #Month with most sales"
   ]
  },
  {
   "cell_type": "code",
   "execution_count": 34,
   "id": "9719c251-54a7-4044-8e3d-b592ba5689e2",
   "metadata": {},
   "outputs": [
    {
     "data": {
      "text/plain": [
       "Status\n",
       "Completed    88\n",
       "Pending      85\n",
       "Cancelled    77\n",
       "Name: count, dtype: int64"
      ]
     },
     "execution_count": 34,
     "metadata": {},
     "output_type": "execute_result"
    }
   ],
   "source": [
    "df['Status'].value_counts()   # distribution status"
   ]
  },
  {
   "cell_type": "code",
   "execution_count": 35,
   "id": "9118e2e3-4a33-4a27-b81a-8b251a738f8c",
   "metadata": {},
   "outputs": [
    {
     "data": {
      "text/plain": [
       "Product\n",
       "Refrigerator       37200\n",
       "Laptop             28800\n",
       "Smartphone         27500\n",
       "Washing Machine    15600\n",
       "Smartwatch          7050\n",
       "Name: Total Sales, dtype: int64"
      ]
     },
     "execution_count": 35,
     "metadata": {},
     "output_type": "execute_result"
    }
   ],
   "source": [
    "monthly_sales = df.groupby('Month')['Total Sales'].sum().sort_values(ascending=False)\n",
    "top_month = monthly_sales.idxmax()  # get the top month \n",
    "month_data = df[df['Month'] == top_month]\n",
    "\n",
    "#top products for that month\n",
    "month_data.groupby('Product')['Total Sales'].sum().sort_values(ascending=False).head()"
   ]
  },
  {
   "cell_type": "markdown",
   "id": "d24afb18-aa2f-4bf3-8532-a50c1c0dcf1c",
   "metadata": {},
   "source": [
    "City that consumed top perfoming product"
   ]
  },
  {
   "cell_type": "code",
   "execution_count": 36,
   "id": "074cba05-bff8-4e40-81e6-749aaca12e40",
   "metadata": {},
   "outputs": [
    {
     "name": "stderr",
     "output_type": "stream",
     "text": [
      "C:\\Users\\sandi\\AppData\\Local\\Temp\\ipykernel_43960\\1915150034.py:7: FutureWarning: The default of observed=False is deprecated and will be changed to True in a future version of pandas. Pass observed=False to retain current behavior or observed=True to adopt the future default and silence this warning.\n",
      "  product_data.groupby('Customer Location')['Quantity'].sum().sort_values(ascending=False).idxmax()\n"
     ]
    },
    {
     "data": {
      "text/plain": [
       "'Houston'"
      ]
     },
     "execution_count": 36,
     "metadata": {},
     "output_type": "execute_result"
    }
   ],
   "source": [
    "mostboughtproduct = df.groupby('Product')['Quantity'].sum().sort_values(ascending=False).idxmax()\n",
    "\n",
    "# Filter data for that product\n",
    "product_data = df[df['Product'] == mostboughtproduct]\n",
    "\n",
    "# Find the city that bought the most of this product\n",
    "product_data.groupby('Customer Location')['Quantity'].sum().sort_values(ascending=False).idxmax()\n"
   ]
  },
  {
   "cell_type": "markdown",
   "id": "6d3aa14a-da87-4228-a756-37a0b38df637",
   "metadata": {},
   "source": [
    "Monthly perfomance per category"
   ]
  },
  {
   "cell_type": "code",
   "execution_count": 37,
   "id": "3a7d6798-ec8f-4fe7-b182-5552f06ee33a",
   "metadata": {},
   "outputs": [
    {
     "name": "stderr",
     "output_type": "stream",
     "text": [
      "C:\\Users\\sandi\\AppData\\Local\\Temp\\ipykernel_43960\\3315308051.py:1: FutureWarning: The default of observed=False is deprecated and will be changed to True in a future version of pandas. Pass observed=False to retain current behavior or observed=True to adopt the future default and silence this warning.\n",
      "  df.groupby(['Month', 'Category'])['Total Sales'].sum().unstack()\n"
     ]
    },
    {
     "data": {
      "text/html": [
       "<div>\n",
       "<style scoped>\n",
       "    .dataframe tbody tr th:only-of-type {\n",
       "        vertical-align: middle;\n",
       "    }\n",
       "\n",
       "    .dataframe tbody tr th {\n",
       "        vertical-align: top;\n",
       "    }\n",
       "\n",
       "    .dataframe thead th {\n",
       "        text-align: right;\n",
       "    }\n",
       "</style>\n",
       "<table border=\"1\" class=\"dataframe\">\n",
       "  <thead>\n",
       "    <tr style=\"text-align: right;\">\n",
       "      <th>Category</th>\n",
       "      <th>Books</th>\n",
       "      <th>Clothing</th>\n",
       "      <th>Electronics</th>\n",
       "      <th>Footwear</th>\n",
       "      <th>Home Appliances</th>\n",
       "    </tr>\n",
       "    <tr>\n",
       "      <th>Month</th>\n",
       "      <th></th>\n",
       "      <th></th>\n",
       "      <th></th>\n",
       "      <th></th>\n",
       "      <th></th>\n",
       "    </tr>\n",
       "  </thead>\n",
       "  <tbody>\n",
       "    <tr>\n",
       "      <th>April</th>\n",
       "      <td>0</td>\n",
       "      <td>220</td>\n",
       "      <td>3200</td>\n",
       "      <td>0</td>\n",
       "      <td>0</td>\n",
       "    </tr>\n",
       "    <tr>\n",
       "      <th>February</th>\n",
       "      <td>465</td>\n",
       "      <td>1320</td>\n",
       "      <td>66850</td>\n",
       "      <td>1260</td>\n",
       "      <td>52800</td>\n",
       "    </tr>\n",
       "    <tr>\n",
       "      <th>March</th>\n",
       "      <td>570</td>\n",
       "      <td>2000</td>\n",
       "      <td>59900</td>\n",
       "      <td>3060</td>\n",
       "      <td>52200</td>\n",
       "    </tr>\n",
       "  </tbody>\n",
       "</table>\n",
       "</div>"
      ],
      "text/plain": [
       "Category  Books  Clothing  Electronics  Footwear  Home Appliances\n",
       "Month                                                            \n",
       "April         0       220         3200         0                0\n",
       "February    465      1320        66850      1260            52800\n",
       "March       570      2000        59900      3060            52200"
      ]
     },
     "execution_count": 37,
     "metadata": {},
     "output_type": "execute_result"
    }
   ],
   "source": [
    "df.groupby(['Month', 'Category'])['Total Sales'].sum().unstack()"
   ]
  },
  {
   "cell_type": "markdown",
   "id": "246c4358-4113-4892-803e-0622565621aa",
   "metadata": {},
   "source": [
    "Top customers"
   ]
  },
  {
   "cell_type": "code",
   "execution_count": 38,
   "id": "5bb170df-de46-4db2-af14-7b511298c89c",
   "metadata": {},
   "outputs": [
    {
     "data": {
      "text/plain": [
       "Customer Name\n",
       "Olivia Wilson    36170\n",
       "Jane Smith       31185\n",
       "Emma Clark       29700\n",
       "John Doe         26870\n",
       "Emily Johnson    23475\n",
       "Name: Total Sales, dtype: int64"
      ]
     },
     "execution_count": 38,
     "metadata": {},
     "output_type": "execute_result"
    }
   ],
   "source": [
    "df.groupby('Customer Name')['Total Sales'].sum().sort_values(ascending=False).head()"
   ]
  },
  {
   "cell_type": "code",
   "execution_count": 39,
   "id": "7a9127e6-30ce-4fe2-b6e9-70b2a26806ea",
   "metadata": {},
   "outputs": [],
   "source": [
    "df.to_csv(\"cleaned_amazon_sales.csv\", index=False)\n"
   ]
  },
  {
   "cell_type": "markdown",
   "id": "46713661-c96c-4d79-839e-1f1584e480f0",
   "metadata": {},
   "source": [
    "VISUALIZATION TIME"
   ]
  },
  {
   "cell_type": "markdown",
   "id": "04728910-6a03-43fe-b435-dd46c4bfeec5",
   "metadata": {},
   "source": [
    "Monthly Revenue"
   ]
  },
  {
   "cell_type": "code",
   "execution_count": 40,
   "id": "a166ff98-f1e4-43f7-92b2-f1eadc10b509",
   "metadata": {},
   "outputs": [],
   "source": [
    "sns.set(style=\"whitegrid\")"
   ]
  },
  {
   "cell_type": "code",
   "execution_count": 41,
   "id": "57bef65d-f299-44fc-9b93-75138cae90c3",
   "metadata": {},
   "outputs": [
    {
     "data": {
      "image/png": "[encoded data removed]",
      "text/plain": [
       "<Figure size 1000x500 with 1 Axes>"
      ]
     },
     "metadata": {},
     "output_type": "display_data"
    }
   ],
   "source": [
    "monthly_sales = df.groupby(df['Month'])['Total Sales'].sum()\n",
    "\n",
    "monthly_sales.plot(kind='bar', figsize=(10,5), color='skyblue')\n",
    "plt.title(\"Monthly Total Sales\")\n",
    "plt.ylabel(\"Revenue\")\n",
    "plt.xlabel(\"Month\")\n",
    "plt.xticks(rotation=45)\n",
    "plt.tight_layout()\n",
    "plt.show()"
   ]
  },
  {
   "cell_type": "markdown",
   "id": "4b162ee0-6215-418a-a376-a80599d82fb9",
   "metadata": {},
   "source": [
    "The Product With The Highest Units Sold\n"
   ]
  },
  {
   "cell_type": "code",
   "execution_count": 42,
   "id": "a8f8d7a5-c4b6-4471-bac6-103bc93ac966",
   "metadata": {},
   "outputs": [
    {
     "name": "stderr",
     "output_type": "stream",
     "text": [
      "C:\\Users\\sandi\\AppData\\Local\\Temp\\ipykernel_43960\\2007066629.py:5: FutureWarning: \n",
      "\n",
      "Passing `palette` without assigning `hue` is deprecated and will be removed in v0.14.0. Assign the `y` variable to `hue` and set `legend=False` for the same effect.\n",
      "\n",
      "  sns.barplot(\n"
     ]
    },
    {
     "data": {
      "image/png": "[encoded data removed]",
      "text/plain": [
       "<Figure size 800x600 with 1 Axes>"
      ]
     },
     "metadata": {},
     "output_type": "display_data"
    }
   ],
   "source": [
    "qty_by_product = (\n",
    "    df.groupby('Product')['Quantity'].sum().reset_index().sort_values('Quantity', ascending=False))\n",
    "\n",
    "plt.figure(figsize=(8, 6))\n",
    "sns.barplot(\n",
    "    data=qty_by_product,\n",
    "    x='Quantity',\n",
    "    y='Product',\n",
    "    palette='viridis'\n",
    ")\n",
    "\n",
    "\n",
    "top_qty = qty_by_product['Quantity'].max()\n",
    "top_idx = qty_by_product['Quantity'].idxmax()\n",
    "plt.barh(\n",
    "    y=qty_by_product.loc[top_idx, 'Product'],\n",
    "    width=top_qty,\n",
    "    color='crimson'\n",
    ")\n",
    "\n",
    "\n",
    "plt.title('Total Units Sold by Product')\n",
    "plt.xlabel('Units Sold')\n",
    "plt.ylabel('Product')\n",
    "plt.tight_layout()\n",
    "plt.show()\n"
   ]
  },
  {
   "cell_type": "markdown",
   "id": "4a5baf1d-b3db-48b7-9e65-9382792ba574",
   "metadata": {},
   "source": [
    "TOP 5 PRODUCTS BY SALES"
   ]
  },
  {
   "cell_type": "code",
   "execution_count": 43,
   "id": "fea960bf-fa80-497b-ae30-7a21973cfeae",
   "metadata": {},
   "outputs": [
    {
     "name": "stderr",
     "output_type": "stream",
     "text": [
      "C:\\Users\\sandi\\AppData\\Local\\Temp\\ipykernel_43960\\792521654.py:3: FutureWarning: \n",
      "\n",
      "Passing `palette` without assigning `hue` is deprecated and will be removed in v0.14.0. Assign the `y` variable to `hue` and set `legend=False` for the same effect.\n",
      "\n",
      "  sns.barplot(x=t_products.values, y=t_products.index, palette='viridis')\n"
     ]
    },
    {
     "data": {
      "image/png": "[encoded data removed]",
      "text/plain": [
       "<Figure size 640x480 with 1 Axes>"
      ]
     },
     "metadata": {},
     "output_type": "display_data"
    }
   ],
   "source": [
    "t_products = df.groupby('Product')['Total Sales'].sum().sort_values(ascending=False).head(5)\n",
    "\n",
    "sns.barplot(x=t_products.values, y=t_products.index, palette='viridis')\n",
    "plt.title(\"Top 5 Best-Selling Products\")\n",
    "plt.xlabel(\"Total Sales\")\n",
    "plt.show()"
   ]
  },
  {
   "cell_type": "markdown",
   "id": "f74fa773-9eff-4c70-a433-f6755d556507",
   "metadata": {},
   "source": [
    "TOP PERFORMING CITIES"
   ]
  },
  {
   "cell_type": "code",
   "execution_count": 44,
   "id": "77a42aba-7961-4242-a4c6-54f444be990a",
   "metadata": {},
   "outputs": [
    {
     "name": "stderr",
     "output_type": "stream",
     "text": [
      "C:\\Users\\sandi\\AppData\\Local\\Temp\\ipykernel_43960\\452924863.py:3: FutureWarning: \n",
      "\n",
      "Passing `palette` without assigning `hue` is deprecated and will be removed in v0.14.0. Assign the `y` variable to `hue` and set `legend=False` for the same effect.\n",
      "\n",
      "  sns.barplot(x=t_cities.values, y=t_cities.index, palette='coolwarm')\n"
     ]
    },
    {
     "data": {
      "image/png": "[encoded data removed]",
      "text/plain": [
       "<Figure size 640x480 with 1 Axes>"
      ]
     },
     "metadata": {},
     "output_type": "display_data"
    }
   ],
   "source": [
    "t_cities = df['Customer Location'].value_counts().head(5)\n",
    "\n",
    "sns.barplot(x=t_cities.values, y=t_cities.index, palette='coolwarm')\n",
    "plt.title(\"Top 5 Customer Locations\")\n",
    "plt.xlabel(\"Number of Orders\")\n",
    "plt.show()"
   ]
  },
  {
   "cell_type": "code",
   "execution_count": 45,
   "id": "d932cba2-549b-483a-ba15-1922b8a7e60f",
   "metadata": {},
   "outputs": [
    {
     "name": "stderr",
     "output_type": "stream",
     "text": [
      "C:\\Users\\sandi\\AppData\\Local\\Temp\\ipykernel_43960\\1477174237.py:3: FutureWarning: \n",
      "\n",
      "Passing `palette` without assigning `hue` is deprecated and will be removed in v0.14.0. Assign the `y` variable to `hue` and set `legend=False` for the same effect.\n",
      "\n",
      "  sns.barplot(x=top_categories.values, y=top_categories.index, palette='coolwarm')\n"
     ]
    },
    {
     "data": {
      "image/png": "[encoded data removed]",
      "text/plain": [
       "<Figure size 640x480 with 1 Axes>"
      ]
     },
     "metadata": {},
     "output_type": "display_data"
    }
   ],
   "source": [
    "top_categories = df['Category'].value_counts().head(5)\n",
    "\n",
    "sns.barplot(x=top_categories.values, y=top_categories.index, palette='coolwarm')\n",
    "plt.title(\"Top 5 Performing Categories\")\n",
    "plt.xlabel(\"Number of Orders\")\n",
    "plt.show()"
   ]
  },
  {
   "cell_type": "code",
   "execution_count": 46,
   "id": "9c02ff32-2099-40d0-a723-c341396bbbd9",
   "metadata": {},
   "outputs": [
    {
     "data": {
      "text/plain": [
       "Order ID                     object\n",
       "Date                 datetime64[ns]\n",
       "Product                      object\n",
       "Category                   category\n",
       "Price                       float64\n",
       "Quantity                      int64\n",
       "Total Sales                   int64\n",
       "Customer Name                object\n",
       "Customer Location          category\n",
       "Payment Method             category\n",
       "Status                     category\n",
       "Revenue per Item            float64\n",
       "Year                          int32\n",
       "Month                        object\n",
       "Month Num                     int32\n",
       "Weekday                      object\n",
       "dtype: object"
      ]
     },
     "execution_count": 46,
     "metadata": {},
     "output_type": "execute_result"
    }
   ],
   "source": [
    "df.dtypes"
   ]
  },
  {
   "cell_type": "code",
   "execution_count": 47,
   "id": "fb7a149a-6027-4178-a2e9-3f2a227f4ad8",
   "metadata": {},
   "outputs": [
    {
     "name": "stderr",
     "output_type": "stream",
     "text": [
      "C:\\Users\\sandi\\AppData\\Local\\Temp\\ipykernel_43960\\4205937146.py:1: FutureWarning: The default of observed=False is deprecated and will be changed to True in a future version of pandas. Pass observed=False to retain current behavior or observed=True to adopt the future default and silence this warning.\n",
      "  most_preferred_method = df.groupby('Payment Method')['Status'].count().sort_values(ascending=False)\n"
     ]
    },
    {
     "data": {
      "image/png": "[encoded data removed]",
      "text/plain": [
       "<Figure size 1000x500 with 1 Axes>"
      ]
     },
     "metadata": {},
     "output_type": "display_data"
    }
   ],
   "source": [
    "most_preferred_method = df.groupby('Payment Method')['Status'].count().sort_values(ascending=False)                         \n",
    "\n",
    "\n",
    "most_preferred_method.plot(kind='bar', figsize=(10,5), color='navy')\n",
    "plt.title(\"Preferred Payment Method by Status of Order\")\n",
    "plt.ylabel(\"Number of orders\")\n",
    "plt.xlabel(\"Status\")\n",
    "plt.xticks(rotation=45)\n",
    "plt.tight_layout()\n",
    "plt.show()"
   ]
  },
  {
   "cell_type": "markdown",
   "id": "3fdab37c-a475-45ad-bc8e-05b4465bdd13",
   "metadata": {},
   "source": [
    "FINAL INSIGHTS AND SUGGESTIONS"
   ]
  },
  {
   "cell_type": "markdown",
   "id": "41c306b7-a372-40f5-99fe-f80702b12c86",
   "metadata": {},
   "source": [
    "TOP PERFORMING CITY\n",
    " "
   ]
  },
  {
   "cell_type": "markdown",
   "id": "32b0789d-3e14-45dc-82cd-47224899588e",
   "metadata": {},
   "source": [
    "Houston leads with 30 orders, making it the top-performing city in the dataset.\n",
    "This may not be a coincidence, Houston is often referred to as the Energy Capital of the World, home to major oil and gas corporations.\n",
    "With high economic activity and possibly more purchasing power, it's reasonable that Houston would show strong sales figures."
   ]
  },
  {
   "cell_type": "markdown",
   "id": "d1247fcd-f829-43f5-967b-f89a8ab7d8d7",
   "metadata": {},
   "source": [
    "BEST SELLING MONTH"
   ]
  },
  {
   "cell_type": "markdown",
   "id": "1f11d0e3-363c-4ef9-8af2-5de5417c72c0",
   "metadata": {},
   "source": [
    "The highest revenue was recorded in February 2025, with a turnover of over $75 000 in sales.\n",
    "This spike could be affected by the fact that it is tax season, spring break travel, and the beginning of the warmer weather, which encourages outdoor activities and related spending.\n",
    "It's a great month to focus sales strategy consider targeted ads and restocking popular products before this period."
   ]
  },
  {
   "cell_type": "markdown",
   "id": "3f1f7080-2624-4642-b12e-7ed980b0d8df",
   "metadata": {},
   "source": [
    "MOST BOUGHT PRODUCT"
   ]
  },
  {
   "cell_type": "markdown",
   "id": "3191205c-392f-4c47-9413-3e5506630b77",
   "metadata": {},
   "source": [
    "Smartwatches\n",
    "Based on my analysis, the surge in US smartwatch sales reflects a broader shift toward proactive health management. In fact, US smartwatch shipments grew by roughly 15 percent year over year in 2024, and surveys show that over 80 percent of owners use their devices primarily for fitness and health monitoring heart rate tracking, sleep analysis and workout logging underscoring how heightened dietary and wellness awareness is driving solid demand for on wrist health analytics\n",
    "Suggestion: Launch well known program ,the trade in program that would reward users with loyalty points for having latest model and referring people ,that would easily increase revenue"
   ]
  },
  {
   "cell_type": "markdown",
   "id": "844818fb-cc8b-44aa-9b8b-edb7efc49ec7",
   "metadata": {},
   "source": [
    "TOP CATEGORY"
   ]
  },
  {
   "cell_type": "raw",
   "id": "2b33980d-aa14-4154-9889-07a2c2d6d273",
   "metadata": {},
   "source": [
    "Electronics\n",
    "Well,Electronics accounts for the highest share of total sales and units sold, outpacing next best categories by at least 20%\n",
    "Within Electronics, sub-segments like Smartphones, Laptops, and Smartwatches drive the majority of revenue.\n",
    "The average order value (AOV) in Electronics is approximately 3 times higher than in Clothing or Books, lifting overall profitability.\n",
    "The reason behind this could be tech-driven lifestyles such as working remotely,social media.\n",
    "Suggestion: Invest more in advertising latest electronics devices,and try to collaborate with well known electronic brands\n"
   ]
  },
  {
   "cell_type": "markdown",
   "id": "68e6f31a-dc95-40b4-90a3-a53b3e721d8a",
   "metadata": {},
   "source": [
    "MOST PREFERRED METHOD OF PAYMENT"
   ]
  },
  {
   "cell_type": "raw",
   "id": "94d68920-a26a-4969-aff1-6a917e205363",
   "metadata": {},
   "source": [
    "Despite the status of the order,this data shows that people prefer Paypal over Amazon Pay.\n",
    "This could be because Paypal is available and accepted by over 26 million online merchants world wide compared to Amazon Pay which is still limited to sellers who have opted into Amazon's checkout ecosystem\n",
    "It would be kind of time consuming and not user friendly for customer to having to transfer their funds to Amazon Pay first to use the feature unless they benefit from it,maybe like getting a discount or reward points.\n",
    "Suggestion:Introduce reward points programm for users until Amazon Pay has reached global market"
   ]
  },
  {
   "cell_type": "markdown",
   "id": "c26a11eb-f894-4323-ab94-c45c396b0a88",
   "metadata": {},
   "source": [
    "EXTRA SUGGESTION"
   ]
  },
  {
   "cell_type": "markdown",
   "id": "913df295-511e-4ef5-a730-54ad9d683107",
   "metadata": {},
   "source": [
    "For top customers ,offer them discount when they pay in bulk on products they buy frequently because they might be in the flipping business or side hustle"
   ]
  }
 ],
 "metadata": {
  "kernelspec": {
   "display_name": "Python 3 (ipykernel)",
   "language": "python",
   "name": "python3"
  },
  "language_info": {
   "codemirror_mode": {
    "name": "ipython",
    "version": 3
   },
   "file_extension": ".py",
   "mimetype": "text/x-python",
   "name": "python",
   "nbconvert_exporter": "python",
   "pygments_lexer": "ipython3",
   "version": "3.12.7"
  }
 },
 "nbformat": 4,
 "nbformat_minor": 5
}
